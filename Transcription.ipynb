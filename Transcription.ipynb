{
 "cells": [
  {
   "cell_type": "code",
   "execution_count": 45,
   "id": "b29822c4-65f9-49a4-9952-8da0b71093ef",
   "metadata": {},
   "outputs": [],
   "source": [
    "from transformers import AutoProcessor , AutoModelForImageTextToText\n",
    "import torch\n",
    "import re"
   ]
  },
  {
   "cell_type": "code",
   "execution_count": 35,
   "id": "f1b4b32c-fa4e-4e5f-a663-bd429e245afb",
   "metadata": {},
   "outputs": [
    {
     "data": {
      "text/plain": [
       "SmolVLMForConditionalGeneration(\n",
       "  (model): SmolVLMModel(\n",
       "    (vision_model): SmolVLMVisionTransformer(\n",
       "      (embeddings): SmolVLMVisionEmbeddings(\n",
       "        (patch_embedding): Conv2d(3, 768, kernel_size=(16, 16), stride=(16, 16), padding=valid)\n",
       "        (position_embedding): Embedding(1024, 768)\n",
       "      )\n",
       "      (encoder): SmolVLMEncoder(\n",
       "        (layers): ModuleList(\n",
       "          (0-11): 12 x SmolVLMEncoderLayer(\n",
       "            (self_attn): SmolVLMVisionAttention(\n",
       "              (k_proj): Linear(in_features=768, out_features=768, bias=True)\n",
       "              (v_proj): Linear(in_features=768, out_features=768, bias=True)\n",
       "              (q_proj): Linear(in_features=768, out_features=768, bias=True)\n",
       "              (out_proj): Linear(in_features=768, out_features=768, bias=True)\n",
       "            )\n",
       "            (layer_norm1): LayerNorm((768,), eps=1e-06, elementwise_affine=True)\n",
       "            (mlp): SmolVLMVisionMLP(\n",
       "              (activation_fn): PytorchGELUTanh()\n",
       "              (fc1): Linear(in_features=768, out_features=3072, bias=True)\n",
       "              (fc2): Linear(in_features=3072, out_features=768, bias=True)\n",
       "            )\n",
       "            (layer_norm2): LayerNorm((768,), eps=1e-06, elementwise_affine=True)\n",
       "          )\n",
       "        )\n",
       "      )\n",
       "      (post_layernorm): LayerNorm((768,), eps=1e-06, elementwise_affine=True)\n",
       "    )\n",
       "    (connector): SmolVLMConnector(\n",
       "      (modality_projection): SmolVLMSimpleMLP(\n",
       "        (proj): Linear(in_features=12288, out_features=576, bias=False)\n",
       "      )\n",
       "    )\n",
       "    (text_model): LlamaModel(\n",
       "      (embed_tokens): Embedding(49280, 576, padding_idx=2)\n",
       "      (layers): ModuleList(\n",
       "        (0-29): 30 x LlamaDecoderLayer(\n",
       "          (self_attn): LlamaAttention(\n",
       "            (q_proj): Linear(in_features=576, out_features=576, bias=False)\n",
       "            (k_proj): Linear(in_features=576, out_features=192, bias=False)\n",
       "            (v_proj): Linear(in_features=576, out_features=192, bias=False)\n",
       "            (o_proj): Linear(in_features=576, out_features=576, bias=False)\n",
       "          )\n",
       "          (mlp): LlamaMLP(\n",
       "            (gate_proj): Linear(in_features=576, out_features=1536, bias=False)\n",
       "            (up_proj): Linear(in_features=576, out_features=1536, bias=False)\n",
       "            (down_proj): Linear(in_features=1536, out_features=576, bias=False)\n",
       "            (act_fn): SiLU()\n",
       "          )\n",
       "          (input_layernorm): LlamaRMSNorm((576,), eps=1e-05)\n",
       "          (post_attention_layernorm): LlamaRMSNorm((576,), eps=1e-05)\n",
       "        )\n",
       "      )\n",
       "      (norm): LlamaRMSNorm((576,), eps=1e-05)\n",
       "      (rotary_emb): LlamaRotaryEmbedding()\n",
       "    )\n",
       "  )\n",
       "  (lm_head): Linear(in_features=576, out_features=49280, bias=False)\n",
       ")"
      ]
     },
     "execution_count": 35,
     "metadata": {},
     "output_type": "execute_result"
    }
   ],
   "source": [
    "model_path = \"HuggingFaceTB/SmolVLM2-256M-Video-Instruct\"\n",
    "\n",
    "device = torch.device('cuda' if torch.cuda.is_available() else 'cpu')\n",
    "processor = AutoProcessor.from_pretrained(model_path)\n",
    "model = AutoModelForImageTextToText.from_pretrained(model_path)\n",
    "model.to(device)\n"
   ]
  },
  {
   "cell_type": "code",
   "execution_count": 44,
   "id": "130cb432-09df-42dd-a3a6-eb6824862100",
   "metadata": {},
   "outputs": [
    {
     "name": "stdout",
     "output_type": "stream",
     "text": [
      "User: You are provided the following series of twenty frames from a 0:00:20 [H:MM:SS] video.\n",
      "\n",
      "\n",
      "Describe this video in detail\n",
      "Assistant: The video showcases a person engaged in the process of washing a black sink faucet with a soapy water stream. Initially, the faucet is shown in a closed position, with the person's hands positioned above it, ready to begin the washing process. The faucet is mounted on a black sink, which is equipped with a soap\n"
     ]
    }
   ],
   "source": [
    "messages = [\n",
    "    {\n",
    "        \"role\": \"user\",\n",
    "        \"content\": [\n",
    "            {\"type\": \"video\", \"path\": \"Videos/pipe.mp4\"},\n",
    "            {\"type\": \"text\", \"text\": \"Describe this video in detail\"}\n",
    "        ]\n",
    "    },\n",
    "]\n",
    "\n",
    "inputs = processor.apply_chat_template(\n",
    "    messages,\n",
    "    add_generation_prompt=True,\n",
    "    tokenize=True,\n",
    "    return_dict=True,\n",
    "    return_tensors=\"pt\",\n",
    ").to(device)\n",
    "\n",
    "generated_ids = model.generate(**inputs, do_sample=False, max_new_tokens=64)\n",
    "generated_texts = processor.batch_decode(\n",
    "    generated_ids,\n",
    "    skip_special_tokens=True,\n",
    ")\n",
    "\n",
    "raw_output = generated_texts[0]\n",
    "cleaned_output = re.sub(r\"Frame from \\d{2}:\\d{2}:\\n?\", \"\", raw_output)\n",
    "\n",
    "print(cleaned_output.strip())\n"
   ]
  },
  {
   "cell_type": "code",
   "execution_count": null,
   "id": "80867ebb-6253-44ce-8338-906837820270",
   "metadata": {},
   "outputs": [],
   "source": []
  },
  {
   "cell_type": "code",
   "execution_count": null,
   "id": "09395201-64ea-468f-b708-9cd4e5bbbf04",
   "metadata": {},
   "outputs": [],
   "source": []
  },
  {
   "cell_type": "code",
   "execution_count": null,
   "id": "848d21f2-de2b-46b7-98e7-2c82fb8a11c5",
   "metadata": {},
   "outputs": [],
   "source": [
    "#SmolVLM 500M"
   ]
  },
  {
   "cell_type": "code",
   "execution_count": null,
   "id": "cacad8d2-0633-4851-8697-2278d579d75f",
   "metadata": {},
   "outputs": [],
   "source": [
    "device = torch.device('cuda' if torch.cuda.is_available() else 'cpu')\n",
    "\n",
    "model_path = \"HuggingFaceTB/SmolVLM2-500M-Video-Instruct\"\n",
    "processor = AutoProcessor.from_pretrained(model_path)\n",
    "model = AutoModelForImageTextToText.from_pretrained(model_path)\n",
    "model.to(device)"
   ]
  },
  {
   "cell_type": "code",
   "execution_count": 41,
   "id": "0aaea03e-fff4-435f-aceb-e9750b72cd21",
   "metadata": {},
   "outputs": [
    {
     "name": "stdout",
     "output_type": "stream",
     "text": [
      "User: You are provided the following series of twenty frames from a 0:00:20 [H:MM:SS] video.\n",
      "\n",
      "Frame from 00:00:\n",
      "Frame from 00:01:\n",
      "Frame from 00:02:\n",
      "Frame from 00:03:\n",
      "Frame from 00:04:\n",
      "Frame from 00:05:\n",
      "Frame from 00:06:\n",
      "Frame from 00:07:\n",
      "Frame from 00:08:\n",
      "Frame from 00:09:\n",
      "Frame from 00:10:\n",
      "Frame from 00:11:\n",
      "Frame from 00:12:\n",
      "Frame from 00:13:\n",
      "Frame from 00:14:\n",
      "Frame from 00:16:\n",
      "Frame from 00:17:\n",
      "Frame from 00:18:\n",
      "Frame from 00:19:\n",
      "Frame from 00:20:\n",
      "\n",
      "What is happening in this video?\n",
      "Assistant: The video shows a person washing their hands under a running faucet in a kitchen sink. The person is wearing an orange and white striped shirt and blue jeans. The sink is made of black plastic and has a textured surface. The faucet is made of stainless steel and has a curved design. The person's hands are wet and\n"
     ]
    }
   ],
   "source": [
    "vdo_pth = 'Videos/pipe.mp4'\n",
    "\n",
    "messages = [\n",
    "    {\n",
    "        \"role\": \"user\",\n",
    "        \"content\": [\n",
    "            {\"type\": \"video\", \"path\": vdo_pth},\n",
    "            {\"type\": \"text\", \"text\": \"What is happening in this video?\"},\n",
    "        ]\n",
    "    },\n",
    "]\n",
    "\n",
    "inputs = processor.apply_chat_template(\n",
    "    messages,\n",
    "    add_generation_prompt=True,\n",
    "    tokenize=True,\n",
    "    return_dict=True,\n",
    "    return_tensors=\"pt\",\n",
    ").to(device)\n",
    "\n",
    "with torch.no_grad():\n",
    "    generated_ids = model.generate(**inputs, do_sample=False, max_new_tokens=64)\n",
    "generated_texts = processor.batch_decode(\n",
    "    generated_ids,\n",
    "    skip_special_tokens=True,\n",
    ")\n",
    "print(generated_texts[0])"
   ]
  },
  {
   "cell_type": "code",
   "execution_count": null,
   "id": "19e36830-228d-4559-8834-1698aab2fdd9",
   "metadata": {},
   "outputs": [],
   "source": []
  }
 ],
 "metadata": {
  "kernelspec": {
   "display_name": "Python 3 (ipykernel)",
   "language": "python",
   "name": "python3"
  },
  "language_info": {
   "codemirror_mode": {
    "name": "ipython",
    "version": 3
   },
   "file_extension": ".py",
   "mimetype": "text/x-python",
   "name": "python",
   "nbconvert_exporter": "python",
   "pygments_lexer": "ipython3",
   "version": "3.10.0"
  }
 },
 "nbformat": 4,
 "nbformat_minor": 5
}
